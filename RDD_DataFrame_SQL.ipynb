{
 "cells": [
  {
   "cell_type": "markdown",
   "metadata": {},
   "source": [
    "#### RDD to DataFrame\n",
    "Similar to RDDs, DataFrames are immutable and distributed data structures in Spark. Even though RDDs are a fundamental data structure in Spark, working with data in DataFrame is easier than RDD most of the time and so understanding of how to convert RDD to DataFrame is necessary."
   ]
  },
  {
   "cell_type": "code",
   "execution_count": 1,
   "metadata": {},
   "outputs": [],
   "source": [
    "import findspark\n",
    "findspark.init()\n",
    "import pyspark\n",
    "\n",
    "#Initiate Spark Context\n",
    "from pyspark import SparkContext, SparkConf\n",
    "from pyspark.sql import SparkSession\n",
    "#sc=pyspark.SparkContext()\n",
    "sc.stop()"
   ]
  },
  {
   "cell_type": "code",
   "execution_count": 2,
   "metadata": {},
   "outputs": [],
   "source": [
    "sc=pyspark.SparkContext()"
   ]
  },
  {
   "cell_type": "code",
   "execution_count": 3,
   "metadata": {},
   "outputs": [],
   "source": [
    "spark = SparkSession.builder.appName('abc').getOrCreate()"
   ]
  },
  {
   "cell_type": "code",
   "execution_count": 4,
   "metadata": {},
   "outputs": [
    {
     "name": "stdout",
     "output_type": "stream",
     "text": [
      "The type of names_df is <class 'pyspark.sql.dataframe.DataFrame'>\n"
     ]
    }
   ],
   "source": [
    "# Create a list of tuples\n",
    "sample_list = [('Mona',20), ('Jennifer',34), ('John',20), ('Jim',26)]\n",
    "\n",
    "# Create a RDD from the list\n",
    "rdd = sc.parallelize(sample_list)\n",
    "\n",
    "# Create a PySpark DataFrame\n",
    "names_df = spark.createDataFrame(rdd, schema=['Name', 'Age'])\n",
    "\n",
    "# Check the type of names_df\n",
    "print(\"The type of names_df is\", type(names_df))"
   ]
  },
  {
   "cell_type": "code",
   "execution_count": 7,
   "metadata": {},
   "outputs": [],
   "source": [
    "file_path_points=r'C:\\Users\\Antonio J. Pérez\\Documents\\GitHub\\Spark\\Fifa2018_dataset.csv'"
   ]
  },
  {
   "cell_type": "code",
   "execution_count": 8,
   "metadata": {},
   "outputs": [
    {
     "name": "stdout",
     "output_type": "stream",
     "text": [
      "The type of people_df is <class 'pyspark.sql.dataframe.DataFrame'>\n"
     ]
    }
   ],
   "source": [
    "# Create an DataFrame from file_path\n",
    "people_df = spark.read.csv(file_path_points, header=True, inferSchema=True)\n",
    "\n",
    "# Check the type of people_df\n",
    "print(\"The type of people_df is\", type(people_df))\n",
    "\n",
    "#print(people_df.take(10))\n"
   ]
  },
  {
   "cell_type": "code",
   "execution_count": 9,
   "metadata": {},
   "outputs": [
    {
     "name": "stdout",
     "output_type": "stream",
     "text": [
      "root\n",
      " |-- _c0: integer (nullable = true)\n",
      " |-- Name: string (nullable = true)\n",
      " |-- Age: integer (nullable = true)\n",
      " |-- Photo: string (nullable = true)\n",
      " |-- Nationality: string (nullable = true)\n",
      " |-- Flag: string (nullable = true)\n",
      " |-- Overall: integer (nullable = true)\n",
      " |-- Potential: integer (nullable = true)\n",
      " |-- Club: string (nullable = true)\n",
      " |-- Club Logo: string (nullable = true)\n",
      " |-- Value: string (nullable = true)\n",
      " |-- Wage: string (nullable = true)\n",
      " |-- Special: integer (nullable = true)\n",
      " |-- Acceleration: string (nullable = true)\n",
      " |-- Aggression: string (nullable = true)\n",
      " |-- Agility: string (nullable = true)\n",
      " |-- Balance: string (nullable = true)\n",
      " |-- Ball control: string (nullable = true)\n",
      " |-- Composure: string (nullable = true)\n",
      " |-- Crossing: string (nullable = true)\n",
      " |-- Curve: string (nullable = true)\n",
      " |-- Dribbling: string (nullable = true)\n",
      " |-- Finishing: string (nullable = true)\n",
      " |-- Free kick accuracy: string (nullable = true)\n",
      " |-- GK diving: string (nullable = true)\n",
      " |-- GK handling: string (nullable = true)\n",
      " |-- GK kicking: string (nullable = true)\n",
      " |-- GK positioning: string (nullable = true)\n",
      " |-- GK reflexes: string (nullable = true)\n",
      " |-- Heading accuracy: string (nullable = true)\n",
      " |-- Interceptions: string (nullable = true)\n",
      " |-- Jumping: string (nullable = true)\n",
      " |-- Long passing: string (nullable = true)\n",
      " |-- Long shots: string (nullable = true)\n",
      " |-- Marking: string (nullable = true)\n",
      " |-- Penalties: string (nullable = true)\n",
      " |-- Positioning: string (nullable = true)\n",
      " |-- Reactions: string (nullable = true)\n",
      " |-- Short passing: string (nullable = true)\n",
      " |-- Shot power: string (nullable = true)\n",
      " |-- Sliding tackle: string (nullable = true)\n",
      " |-- Sprint speed: string (nullable = true)\n",
      " |-- Stamina: string (nullable = true)\n",
      " |-- Standing tackle: string (nullable = true)\n",
      " |-- Strength: string (nullable = true)\n",
      " |-- Vision: string (nullable = true)\n",
      " |-- Volleys: string (nullable = true)\n",
      " |-- CAM: double (nullable = true)\n",
      " |-- CB: double (nullable = true)\n",
      " |-- CDM: double (nullable = true)\n",
      " |-- CF: double (nullable = true)\n",
      " |-- CM: double (nullable = true)\n",
      " |-- ID: integer (nullable = true)\n",
      " |-- LAM: double (nullable = true)\n",
      " |-- LB: double (nullable = true)\n",
      " |-- LCB: double (nullable = true)\n",
      " |-- LCM: double (nullable = true)\n",
      " |-- LDM: double (nullable = true)\n",
      " |-- LF: double (nullable = true)\n",
      " |-- LM: double (nullable = true)\n",
      " |-- LS: double (nullable = true)\n",
      " |-- LW: double (nullable = true)\n",
      " |-- LWB: double (nullable = true)\n",
      " |-- Preferred Positions: string (nullable = true)\n",
      " |-- RAM: double (nullable = true)\n",
      " |-- RB: double (nullable = true)\n",
      " |-- RCB: double (nullable = true)\n",
      " |-- RCM: double (nullable = true)\n",
      " |-- RDM: double (nullable = true)\n",
      " |-- RF: double (nullable = true)\n",
      " |-- RM: double (nullable = true)\n",
      " |-- RS: double (nullable = true)\n",
      " |-- RW: double (nullable = true)\n",
      " |-- RWB: double (nullable = true)\n",
      " |-- ST: double (nullable = true)\n",
      "\n"
     ]
    }
   ],
   "source": [
    "# DataFrame Schema\n",
    "people_df.printSchema()"
   ]
  },
  {
   "cell_type": "code",
   "execution_count": 49,
   "metadata": {},
   "outputs": [
    {
     "data": {
      "text/plain": [
       "['_c0',\n",
       " 'Name',\n",
       " 'Age',\n",
       " 'Photo',\n",
       " 'Nationality',\n",
       " 'Flag',\n",
       " 'Overall',\n",
       " 'Potential',\n",
       " 'Club',\n",
       " 'Club Logo',\n",
       " 'Value',\n",
       " 'Wage',\n",
       " 'Special',\n",
       " 'Acceleration',\n",
       " 'Aggression',\n",
       " 'Agility',\n",
       " 'Balance',\n",
       " 'Ball control',\n",
       " 'Composure',\n",
       " 'Crossing',\n",
       " 'Curve',\n",
       " 'Dribbling',\n",
       " 'Finishing',\n",
       " 'Free kick accuracy',\n",
       " 'GK diving',\n",
       " 'GK handling',\n",
       " 'GK kicking',\n",
       " 'GK positioning',\n",
       " 'GK reflexes',\n",
       " 'Heading accuracy',\n",
       " 'Interceptions',\n",
       " 'Jumping',\n",
       " 'Long passing',\n",
       " 'Long shots',\n",
       " 'Marking',\n",
       " 'Penalties',\n",
       " 'Positioning',\n",
       " 'Reactions',\n",
       " 'Short passing',\n",
       " 'Shot power',\n",
       " 'Sliding tackle',\n",
       " 'Sprint speed',\n",
       " 'Stamina',\n",
       " 'Standing tackle',\n",
       " 'Strength',\n",
       " 'Vision',\n",
       " 'Volleys',\n",
       " 'CAM',\n",
       " 'CB',\n",
       " 'CDM',\n",
       " 'CF',\n",
       " 'CM',\n",
       " 'ID',\n",
       " 'LAM',\n",
       " 'LB',\n",
       " 'LCB',\n",
       " 'LCM',\n",
       " 'LDM',\n",
       " 'LF',\n",
       " 'LM',\n",
       " 'LS',\n",
       " 'LW',\n",
       " 'LWB',\n",
       " 'Preferred Positions',\n",
       " 'RAM',\n",
       " 'RB',\n",
       " 'RCB',\n",
       " 'RCM',\n",
       " 'RDM',\n",
       " 'RF',\n",
       " 'RM',\n",
       " 'RS',\n",
       " 'RW',\n",
       " 'RWB',\n",
       " 'ST']"
      ]
     },
     "execution_count": 49,
     "metadata": {},
     "output_type": "execute_result"
    }
   ],
   "source": [
    "# Column names\n",
    "people_df.columns"
   ]
  },
  {
   "cell_type": "code",
   "execution_count": 15,
   "metadata": {},
   "outputs": [
    {
     "name": "stdout",
     "output_type": "stream",
     "text": [
      "+-------+-----------------+\n",
      "|summary|        Potential|\n",
      "+-------+-----------------+\n",
      "|  count|            17981|\n",
      "|   mean|71.19081252433124|\n",
      "| stddev|6.102199325567456|\n",
      "|    min|               46|\n",
      "|    max|               94|\n",
      "+-------+-----------------+\n",
      "\n"
     ]
    }
   ],
   "source": [
    "people_df.describe('Potential').show()"
   ]
  },
  {
   "cell_type": "code",
   "execution_count": 20,
   "metadata": {},
   "outputs": [],
   "source": [
    "df_name = people_df.select('Name', 'Value', 'Nationality', 'Club')"
   ]
  },
  {
   "cell_type": "code",
   "execution_count": 21,
   "metadata": {},
   "outputs": [
    {
     "name": "stdout",
     "output_type": "stream",
     "text": [
      "+-----------------+------+-----------+-------------------+\n",
      "|             Name| Value|Nationality|               Club|\n",
      "+-----------------+------+-----------+-------------------+\n",
      "|Cristiano Ronaldo|€95.5M|   Portugal|     Real Madrid CF|\n",
      "|         L. Messi| €105M|  Argentina|       FC Barcelona|\n",
      "|           Neymar| €123M|     Brazil|Paris Saint-Germain|\n",
      "|        L. Suárez|  €97M|    Uruguay|       FC Barcelona|\n",
      "|         M. Neuer|  €61M|    Germany|   FC Bayern Munich|\n",
      "|   R. Lewandowski|  €92M|     Poland|   FC Bayern Munich|\n",
      "|           De Gea|€64.5M|      Spain|  Manchester United|\n",
      "|        E. Hazard|€90.5M|    Belgium|            Chelsea|\n",
      "|         T. Kroos|  €79M|    Germany|     Real Madrid CF|\n",
      "|       G. Higuaín|  €77M|  Argentina|           Juventus|\n",
      "+-----------------+------+-----------+-------------------+\n",
      "only showing top 10 rows\n",
      "\n"
     ]
    }
   ],
   "source": [
    "df_name.show(10)"
   ]
  },
  {
   "cell_type": "markdown",
   "metadata": {},
   "source": [
    "### Operating on DataFrames in PySpark"
   ]
  },
  {
   "cell_type": "code",
   "execution_count": 13,
   "metadata": {},
   "outputs": [
    {
     "data": {
      "text/plain": [
       "17981"
      ]
     },
     "execution_count": 13,
     "metadata": {},
     "output_type": "execute_result"
    }
   ],
   "source": [
    "people_df.count()"
   ]
  },
  {
   "cell_type": "markdown",
   "metadata": {},
   "source": [
    "#### Filtering the dataset"
   ]
  },
  {
   "cell_type": "code",
   "execution_count": 24,
   "metadata": {},
   "outputs": [],
   "source": [
    "people_df_nationality_ESP = people_df.filter(people_df.Nationality == 'Spain')"
   ]
  },
  {
   "cell_type": "code",
   "execution_count": 28,
   "metadata": {},
   "outputs": [],
   "source": [
    "nationality_ESP = people_df_nationality_ESP.select('Name', 'Value', 'Nationality', 'Club')"
   ]
  },
  {
   "cell_type": "code",
   "execution_count": 29,
   "metadata": {},
   "outputs": [
    {
     "name": "stdout",
     "output_type": "stream",
     "text": [
      "+---------------+------+-----------+-----------------+\n",
      "|           Name| Value|Nationality|             Club|\n",
      "+---------------+------+-----------+-----------------+\n",
      "|         De Gea|€64.5M|      Spain|Manchester United|\n",
      "|   Sergio Ramos|  €52M|      Spain|   Real Madrid CF|\n",
      "|         Thiago|€70.5M|      Spain| FC Bayern Munich|\n",
      "|    David Silva|  €44M|      Spain|  Manchester City|\n",
      "|          Piqué|€37.5M|      Spain|     FC Barcelona|\n",
      "|        Iniesta|€29.5M|      Spain|     FC Barcelona|\n",
      "|           Isco|€56.5M|      Spain|   Real Madrid CF|\n",
      "|Sergio Busquets|  €36M|      Spain|     FC Barcelona|\n",
      "|    Diego Costa|  €46M|      Spain|          Chelsea|\n",
      "|  Javi Martínez|  €36M|      Spain| FC Bayern Munich|\n",
      "|  Cesc Fàbregas|  €41M|      Spain|          Chelsea|\n",
      "|     Jordi Alba|€30.5M|      Spain|     FC Barcelona|\n",
      "|    Azpilicueta|€37.5M|      Spain|          Chelsea|\n",
      "|  Marco Asensio|  €46M|      Spain|   Real Madrid CF|\n",
      "|       Carvajal|  €32M|      Spain|   Real Madrid CF|\n",
      "|         Morata|  €41M|      Spain|          Chelsea|\n",
      "|           Koke|€39.5M|      Spain|  Atlético Madrid|\n",
      "|  Ander Herrera|  €32M|      Spain|Manchester United|\n",
      "|          Pedro|€30.5M|      Spain|          Chelsea|\n",
      "|          Bruno|€18.5M|      Spain|    Villarreal CF|\n",
      "+---------------+------+-----------+-----------------+\n",
      "only showing top 20 rows\n",
      "\n"
     ]
    }
   ],
   "source": [
    "nationality_ESP.show()"
   ]
  },
  {
   "cell_type": "markdown",
   "metadata": {},
   "source": [
    "#### Create a SQL Query"
   ]
  },
  {
   "cell_type": "code",
   "execution_count": 30,
   "metadata": {},
   "outputs": [],
   "source": [
    "nationality_ESP.createOrReplaceTempView(\"players_spain\")"
   ]
  },
  {
   "cell_type": "code",
   "execution_count": 34,
   "metadata": {},
   "outputs": [],
   "source": [
    "query = '''SELECT Name, Value FROM players_spain ORDER BY Value ASC '''"
   ]
  },
  {
   "cell_type": "code",
   "execution_count": 35,
   "metadata": {},
   "outputs": [],
   "source": [
    "nationality_ESP_SQL = spark.sql(query)"
   ]
  },
  {
   "cell_type": "code",
   "execution_count": 36,
   "metadata": {},
   "outputs": [
    {
     "name": "stdout",
     "output_type": "stream",
     "text": [
      "+--------------+-----+\n",
      "|          Name|Value|\n",
      "+--------------+-----+\n",
      "|        Pelayo|€1.1M|\n",
      "|   Juan Carlos|€1.1M|\n",
      "|       Pomares|€1.1M|\n",
      "|          Nono|€1.1M|\n",
      "|  Nili Perdomo|€1.1M|\n",
      "|       Puertas|€1.1M|\n",
      "|    Pablo Marí|€1.1M|\n",
      "|        Lobato|€1.1M|\n",
      "|  Toño Ramirez|€1.1M|\n",
      "| Manuel Torres|€1.1M|\n",
      "|   Álvaro Peña|€1.1M|\n",
      "|  Gerard Badía|€1.1M|\n",
      "|         Máyor|€1.1M|\n",
      "|Juan Domínguez|€1.1M|\n",
      "|          Caro|€1.1M|\n",
      "|  Nacho Méndez|€1.1M|\n",
      "|        Angulo|€1.1M|\n",
      "| Rubén Alcaraz|€1.1M|\n",
      "|  Borja Lázaro|€1.1M|\n",
      "| Pichu Atienza|€1.1M|\n",
      "+--------------+-----+\n",
      "only showing top 20 rows\n",
      "\n"
     ]
    }
   ],
   "source": [
    "nationality_ESP_SQL.show()"
   ]
  },
  {
   "cell_type": "code",
   "execution_count": null,
   "metadata": {},
   "outputs": [],
   "source": []
  }
 ],
 "metadata": {
  "kernelspec": {
   "display_name": "Python 3",
   "language": "python",
   "name": "python3"
  },
  "language_info": {
   "codemirror_mode": {
    "name": "ipython",
    "version": 3
   },
   "file_extension": ".py",
   "mimetype": "text/x-python",
   "name": "python",
   "nbconvert_exporter": "python",
   "pygments_lexer": "ipython3",
   "version": "3.7.6"
  }
 },
 "nbformat": 4,
 "nbformat_minor": 4
}
