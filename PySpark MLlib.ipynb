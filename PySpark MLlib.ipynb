{
 "cells": [
  {
   "cell_type": "code",
   "execution_count": 2,
   "metadata": {},
   "outputs": [],
   "source": [
    "import findspark\n",
    "findspark.init()\n",
    "import pyspark\n",
    "\n",
    "#Initiate Spark Context\n",
    "from pyspark import SparkContext, SparkConf\n",
    "from pyspark.sql import SparkSession\n",
    "#sc=pyspark.SparkContext()"
   ]
  },
  {
   "cell_type": "code",
   "execution_count": 4,
   "metadata": {},
   "outputs": [],
   "source": [
    "spark = SparkSession.builder.appName('MLlib').getOrCreate()"
   ]
  },
  {
   "cell_type": "markdown",
   "metadata": {},
   "source": [
    "## MLlib is a component ofApache Spark for machine learning\n",
    "#### Various tools provided by MLlib include:\n",
    "<ul>\n",
    "<li>ML Algorithms: collaborative ltering, classication, and clustering</li>\n",
    "<li>Featurization: feature extraction,transformation, dimensionality reduction, and selection</li>\n",
    "<li>Pipelines:tools for constructing, evaluating, and tuning ML Pipelines</li>\n",
    "</ul>"
   ]
  },
  {
   "cell_type": "markdown",
   "metadata": {},
   "source": [
    " #### PySpark MLlib Algorithms\n",
    "Classication (Binary and Multiclass) and Regression: Linear SVMs, logistic regression, decision\n",
    "trees, random forests, gradient-boosted trees, naive Bayes, linear least squares, Lasso, ridge regression,\n",
    "isotonic regression (Identifying to which of a set of categories a new observation)\n",
    "<br>\n",
    "Collaborative ltering: Alternating least squares (ALS) (Produce recommendations)\n",
    "<br>\n",
    "Clustering: K-means, Gaussian mixture, Bisecting K-means and Streaming K-Means (Groups data based on similar characteristics)"
   ]
  },
  {
   "cell_type": "code",
   "execution_count": 5,
   "metadata": {},
   "outputs": [],
   "source": [
    "# Import the library for ALS\n",
    "from pyspark.mllib.recommendation import ALS\n",
    "\n",
    "# Import the library for Logistic Regression\n",
    "from pyspark.mllib.classification import LogisticRegressionWithLBFGS\n",
    "\n",
    "# Import the library for Kmeans\n",
    "from pyspark.mllib.clustering import KMeans"
   ]
  },
  {
   "cell_type": "code",
   "execution_count": null,
   "metadata": {},
   "outputs": [],
   "source": []
  },
  {
   "cell_type": "code",
   "execution_count": null,
   "metadata": {},
   "outputs": [],
   "source": []
  }
 ],
 "metadata": {
  "kernelspec": {
   "display_name": "Python 3",
   "language": "python",
   "name": "python3"
  },
  "language_info": {
   "codemirror_mode": {
    "name": "ipython",
    "version": 3
   },
   "file_extension": ".py",
   "mimetype": "text/x-python",
   "name": "python",
   "nbconvert_exporter": "python",
   "pygments_lexer": "ipython3",
   "version": "3.7.6"
  }
 },
 "nbformat": 4,
 "nbformat_minor": 4
}
