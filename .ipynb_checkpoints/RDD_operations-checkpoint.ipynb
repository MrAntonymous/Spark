{
 "cells": [
  {
   "cell_type": "markdown",
   "metadata": {},
   "source": [
    "# RDD operations in PySpark"
   ]
  },
  {
   "cell_type": "markdown",
   "metadata": {},
   "source": [
    "### Overview of PySpark operations\n",
    "<ul style=\"list-style-type:circle;\">\n",
    "<li><b>Transformations</b> create new RDDS</li>\n",
    "<li><b>Actions</b> perform computation on the RDDs</li>\n",
    "    </ul>"
   ]
  },
  {
   "cell_type": "markdown",
   "metadata": {},
   "source": [
    "### Basic transformations\n",
    "<br>\n",
    "<b>map()</b> transformation applies a function to all elements in the RDD\n",
    "<br>\n",
    "<b>filter()</b> transformation returns a new RDD with only the elements that pass the condition\n",
    "<br>\n",
    "<b>flatMap()</b> transformation returns multiple values for each element in the original RDD\n",
    "<br>\n",
    "<b>union()</b> Transformation"
   ]
  },
  {
   "cell_type": "markdown",
   "metadata": {},
   "source": [
    "The main method by which you can manipulate data in PySpark is using <b>map()</b>. The <b>map()</b> transformation takes in a function and applies it to each element in the RDD. It can be used to do any number of things, from fetching the website associated with each URL in our collection to just squaring the numbers. "
   ]
  },
  {
   "cell_type": "markdown",
   "metadata": {},
   "source": [
    "The RDD transformation <b>filter()</b> returns a new RDD containing only the elements that satisfy a particular function. It is useful for filtering large datasets based on a keyword."
   ]
  },
  {
   "cell_type": "markdown",
   "metadata": {},
   "source": [
    "### RDD Actions \n",
    "<br>\n",
    "Operation return a value after running a computation on the RDD"
   ]
  },
  {
   "cell_type": "markdown",
   "metadata": {},
   "source": [
    "<b>collect()</b> return allthe elements ofthe dataset as an array\n",
    "<br>\n",
    "<b>take(N)</b> returns an array with the rst N elements ofthe dataset\n",
    "<br>\n",
    "<b>first()</b> prints the rst element ofthe RDD\n",
    "<br>\n",
    "<b>count()</b> return the number of elements in the RDD"
   ]
  },
  {
   "cell_type": "code",
   "execution_count": null,
   "metadata": {},
   "outputs": [],
   "source": []
  }
 ],
 "metadata": {
  "kernelspec": {
   "display_name": "Python 3",
   "language": "python",
   "name": "python3"
  },
  "language_info": {
   "codemirror_mode": {
    "name": "ipython",
    "version": 3
   },
   "file_extension": ".py",
   "mimetype": "text/x-python",
   "name": "python",
   "nbconvert_exporter": "python",
   "pygments_lexer": "ipython3",
   "version": "3.7.6"
  }
 },
 "nbformat": 4,
 "nbformat_minor": 4
}
